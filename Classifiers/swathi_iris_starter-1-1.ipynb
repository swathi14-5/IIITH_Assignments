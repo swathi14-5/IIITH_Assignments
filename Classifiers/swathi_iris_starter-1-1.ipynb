{
 "cells": [
  {
   "cell_type": "markdown",
   "metadata": {},
   "source": [
    "## Download and import packages"
   ]
  },
  {
   "cell_type": "code",
   "execution_count": 1,
   "metadata": {},
   "outputs": [
    {
     "name": "stdout",
     "output_type": "stream",
     "text": [
      "Requirement already satisfied: numpy in c:\\python\\lib\\site-packages (1.20.3)\n",
      "Requirement already satisfied: pandas in c:\\python\\lib\\site-packages (1.2.4)\n",
      "Requirement already satisfied: numpy>=1.16.5 in c:\\python\\lib\\site-packages (from pandas) (1.20.3)\n",
      "Requirement already satisfied: python-dateutil>=2.7.3 in c:\\python\\lib\\site-packages (from pandas) (2.8.1)\n",
      "Requirement already satisfied: pytz>=2017.3 in c:\\python\\lib\\site-packages (from pandas) (2021.1)\n",
      "Requirement already satisfied: six>=1.5 in c:\\python\\lib\\site-packages (from python-dateutil>=2.7.3->pandas) (1.16.0)\n",
      "Requirement already satisfied: scikit-learn in c:\\python\\lib\\site-packages (0.24.2)\n",
      "Requirement already satisfied: scipy>=0.19.1 in c:\\users\\honey\\appdata\\roaming\\python\\python39\\site-packages (from scikit-learn) (1.6.3)\n",
      "Requirement already satisfied: numpy>=1.13.3 in c:\\python\\lib\\site-packages (from scikit-learn) (1.20.3)\n",
      "Requirement already satisfied: joblib>=0.11 in c:\\python\\lib\\site-packages (from scikit-learn) (1.0.1)\n",
      "Requirement already satisfied: threadpoolctl>=2.0.0 in c:\\python\\lib\\site-packages (from scikit-learn) (2.1.0)\n",
      "Requirement already satisfied: matplotlib in c:\\python\\lib\\site-packages (3.4.2)\n",
      "Requirement already satisfied: kiwisolver>=1.0.1 in c:\\python\\lib\\site-packages (from matplotlib) (1.3.1)\n",
      "Requirement already satisfied: cycler>=0.10 in c:\\python\\lib\\site-packages (from matplotlib) (0.10.0)\n",
      "Requirement already satisfied: pyparsing>=2.2.1 in c:\\python\\lib\\site-packages (from matplotlib) (2.4.7)\n",
      "Requirement already satisfied: numpy>=1.16 in c:\\python\\lib\\site-packages (from matplotlib) (1.20.3)\n",
      "Requirement already satisfied: python-dateutil>=2.7 in c:\\python\\lib\\site-packages (from matplotlib) (2.8.1)\n",
      "Requirement already satisfied: pillow>=6.2.0 in c:\\python\\lib\\site-packages (from matplotlib) (8.2.0)\n",
      "Requirement already satisfied: six in c:\\python\\lib\\site-packages (from cycler>=0.10->matplotlib) (1.16.0)\n"
     ]
    }
   ],
   "source": [
    "!pip install numpy\n",
    "!pip install pandas\n",
    "!pip install scikit-learn\n",
    "!pip install matplotlib\n",
    "\n",
    "#import required packages\n",
    "\n",
    "from numpy import mean, std\n",
    "import numpy as np\n",
    "import pandas as pd\n",
    "from pandas import read_csv\n",
    "import matplotlib.pyplot as plt\n",
    "import gdown\n",
    "\n",
    "import copy\n",
    "from sklearn import datasets\n",
    "from sklearn.model_selection import train_test_split\n",
    "from sklearn.metrics import f1_score,precision_score,recall_score,accuracy_score, roc_curve, auc\n",
    "from sklearn.linear_model import LogisticRegression, LinearRegression\n",
    "from sklearn.naive_bayes import GaussianNB\n",
    "from sklearn.model_selection import KFold\n",
    "from sklearn.tree import DecisionTreeClassifier\n",
    "from sklearn.svm import SVC\n",
    "from sklearn.metrics import confusion_matrix\n",
    "\n",
    "import warnings\n",
    "warnings.filterwarnings('ignore')"
   ]
  },
  {
   "cell_type": "markdown",
   "metadata": {},
   "source": [
    "## Download Data and Load Data"
   ]
  },
  {
   "cell_type": "code",
   "execution_count": 2,
   "metadata": {},
   "outputs": [
    {
     "name": "stderr",
     "output_type": "stream",
     "text": [
      "Downloading...\n",
      "From: https://drive.google.com/uc?id=1BmICPGpdRg1dPmXi0G3Fe5IWs1MobCu8\n",
      "To: E:\\Jupyternotebook\\code_basics\\New folder\\iris.data\n",
      "100%|█████████████████████████████████████████████████████████████████████████████| 4.55k/4.55k [00:00<00:00, 3.02MB/s]\n"
     ]
    },
    {
     "data": {
      "text/plain": [
       "'./iris.data'"
      ]
     },
     "execution_count": 2,
     "metadata": {},
     "output_type": "execute_result"
    }
   ],
   "source": [
    "# Download from Google Drive\n",
    "url = 'https://drive.google.com/uc?id=' + '1BmICPGpdRg1dPmXi0G3Fe5IWs1MobCu8' #(URI ID)\n",
    "output = './iris.data' # Destination directory\n",
    "gdown.download(url, output, quiet=False) "
   ]
  },
  {
   "cell_type": "code",
   "execution_count": 3,
   "metadata": {},
   "outputs": [
    {
     "name": "stdout",
     "output_type": "stream",
     "text": [
      "<class 'pandas.core.frame.DataFrame'>\n",
      "RangeIndex: 150 entries, 0 to 149\n",
      "Data columns (total 5 columns):\n",
      " #   Column  Non-Null Count  Dtype  \n",
      "---  ------  --------------  -----  \n",
      " 0   0       150 non-null    float64\n",
      " 1   1       150 non-null    float64\n",
      " 2   2       150 non-null    float64\n",
      " 3   3       150 non-null    float64\n",
      " 4   4       150 non-null    object \n",
      "dtypes: float64(4), object(1)\n",
      "memory usage: 6.0+ KB\n"
     ]
    }
   ],
   "source": [
    "#Load the data using pandas read_csv method\n",
    "df=read_csv(output, sep=\",\", header=None)\n",
    "#Display the first few rows in the dataframe\n",
    "df.head()\n",
    "df.info()"
   ]
  },
  {
   "cell_type": "code",
   "execution_count": 4,
   "metadata": {},
   "outputs": [],
   "source": [
    "#Loading the dataset\n",
    "iris = datasets.load_iris()\n",
    "#Creating a dataframe\n",
    "df = pd.DataFrame(iris.data)\n",
    "df['class'] = iris.target\n",
    "y = df['class'].values\n",
    "x = df.drop(['class'],axis=1).values"
   ]
  },
  {
   "cell_type": "code",
   "execution_count": 5,
   "metadata": {},
   "outputs": [
    {
     "data": {
      "text/html": [
       "<div>\n",
       "<style scoped>\n",
       "    .dataframe tbody tr th:only-of-type {\n",
       "        vertical-align: middle;\n",
       "    }\n",
       "\n",
       "    .dataframe tbody tr th {\n",
       "        vertical-align: top;\n",
       "    }\n",
       "\n",
       "    .dataframe thead th {\n",
       "        text-align: right;\n",
       "    }\n",
       "</style>\n",
       "<table border=\"1\" class=\"dataframe\">\n",
       "  <thead>\n",
       "    <tr style=\"text-align: right;\">\n",
       "      <th></th>\n",
       "      <th>0</th>\n",
       "      <th>1</th>\n",
       "      <th>2</th>\n",
       "      <th>3</th>\n",
       "      <th>class</th>\n",
       "    </tr>\n",
       "  </thead>\n",
       "  <tbody>\n",
       "    <tr>\n",
       "      <th>0</th>\n",
       "      <td>5.1</td>\n",
       "      <td>3.5</td>\n",
       "      <td>1.4</td>\n",
       "      <td>0.2</td>\n",
       "      <td>0</td>\n",
       "    </tr>\n",
       "    <tr>\n",
       "      <th>1</th>\n",
       "      <td>4.9</td>\n",
       "      <td>3.0</td>\n",
       "      <td>1.4</td>\n",
       "      <td>0.2</td>\n",
       "      <td>0</td>\n",
       "    </tr>\n",
       "    <tr>\n",
       "      <th>2</th>\n",
       "      <td>4.7</td>\n",
       "      <td>3.2</td>\n",
       "      <td>1.3</td>\n",
       "      <td>0.2</td>\n",
       "      <td>0</td>\n",
       "    </tr>\n",
       "    <tr>\n",
       "      <th>3</th>\n",
       "      <td>4.6</td>\n",
       "      <td>3.1</td>\n",
       "      <td>1.5</td>\n",
       "      <td>0.2</td>\n",
       "      <td>0</td>\n",
       "    </tr>\n",
       "    <tr>\n",
       "      <th>4</th>\n",
       "      <td>5.0</td>\n",
       "      <td>3.6</td>\n",
       "      <td>1.4</td>\n",
       "      <td>0.2</td>\n",
       "      <td>0</td>\n",
       "    </tr>\n",
       "  </tbody>\n",
       "</table>\n",
       "</div>"
      ],
      "text/plain": [
       "     0    1    2    3  class\n",
       "0  5.1  3.5  1.4  0.2      0\n",
       "1  4.9  3.0  1.4  0.2      0\n",
       "2  4.7  3.2  1.3  0.2      0\n",
       "3  4.6  3.1  1.5  0.2      0\n",
       "4  5.0  3.6  1.4  0.2      0"
      ]
     },
     "execution_count": 5,
     "metadata": {},
     "output_type": "execute_result"
    }
   ],
   "source": [
    "# Task1 Display the first few rows of the data\n",
    "df.head()"
   ]
  },
  {
   "cell_type": "markdown",
   "metadata": {},
   "source": [
    "## Visualize Data"
   ]
  },
  {
   "cell_type": "code",
   "execution_count": 6,
   "metadata": {},
   "outputs": [
    {
     "data": {
      "text/plain": [
       "<bound method DataFrame.info of        0    1    2    3  class\n",
       "0    5.1  3.5  1.4  0.2      0\n",
       "1    4.9  3.0  1.4  0.2      0\n",
       "2    4.7  3.2  1.3  0.2      0\n",
       "3    4.6  3.1  1.5  0.2      0\n",
       "4    5.0  3.6  1.4  0.2      0\n",
       "..   ...  ...  ...  ...    ...\n",
       "145  6.7  3.0  5.2  2.3      2\n",
       "146  6.3  2.5  5.0  1.9      2\n",
       "147  6.5  3.0  5.2  2.0      2\n",
       "148  6.2  3.4  5.4  2.3      2\n",
       "149  5.9  3.0  5.1  1.8      2\n",
       "\n",
       "[150 rows x 5 columns]>"
      ]
     },
     "execution_count": 6,
     "metadata": {},
     "output_type": "execute_result"
    }
   ],
   "source": [
    "df.info"
   ]
  },
  {
   "cell_type": "code",
   "execution_count": 7,
   "metadata": {},
   "outputs": [
    {
     "data": {
      "image/png": "[encoded data removed]",
      "text/plain": [
       "<Figure size 432x288 with 1 Axes>"
      ]
     },
     "metadata": {
      "needs_background": "light"
     },
     "output_type": "display_data"
    }
   ],
   "source": [
    "#Task2: Visualize the histogram of data classes\n",
    "import seaborn as sns\n",
    "\n",
    "sns.countplot(x= \"class\", data=df)\n",
    "plt.show()"
   ]
  },
  {
   "cell_type": "code",
   "execution_count": 8,
   "metadata": {},
   "outputs": [
    {
     "data": {
      "image/png": "[encoded data removed]",
      "text/plain": [
       "<Figure size 432x288 with 1 Axes>"
      ]
     },
     "metadata": {
      "needs_background": "light"
     },
     "output_type": "display_data"
    }
   ],
   "source": [
    "#Task2: Plot the histogram of values from any other attribute of choice\n",
    "\n",
    "import seaborn as sns\n",
    "\n",
    "sns.barplot(x= \"class\", data=df)\n",
    "plt.show()"
   ]
  },
  {
   "cell_type": "markdown",
   "metadata": {},
   "source": [
    "## Prepare data"
   ]
  },
  {
   "cell_type": "markdown",
   "metadata": {},
   "source": [
    "To assess our model’s performance later, we will need to divide the data set into two parts: a training set and a\n",
    "test set. The first is used to train the system, while the second is used to evaluate the learned or trained system.\n",
    "\n",
    "Sklearn provides us with an easy way to randomly break up our data. We have decided to split the data with 20% as test and 80% as training."
   ]
  },
  {
   "cell_type": "code",
   "execution_count": 9,
   "metadata": {},
   "outputs": [],
   "source": [
    "#Splitting the data for training and testing\n",
    "X_train, X_test, y_train, y_test = train_test_split(x,y, test_size=0.2)"
   ]
  },
  {
   "cell_type": "code",
   "execution_count": 10,
   "metadata": {},
   "outputs": [
    {
     "data": {
      "text/plain": [
       "array([0, 2, 1, 1, 0, 2, 2, 2, 0, 2, 1, 1, 2, 2, 2, 0, 0, 2, 0, 0, 1, 0,\n",
       "       0, 1, 2, 2, 0, 1, 1, 1, 1, 1, 2, 1, 0, 0, 1, 0, 0, 1, 0, 0, 1, 1,\n",
       "       1, 0, 1, 1, 2, 0, 0, 0, 2, 0, 0, 0, 2, 2, 2, 1, 2, 2, 0, 1, 1, 1,\n",
       "       2, 1, 2, 1, 1, 2, 2, 2, 2, 0, 0, 2, 1, 0, 1, 0, 0, 2, 2, 0, 2, 1,\n",
       "       2, 2, 2, 2, 0, 0, 1, 0, 2, 1, 1, 2, 1, 1, 1, 2, 1, 0, 1, 1, 1, 0,\n",
       "       1, 1, 1, 2, 2, 0, 2, 0, 0, 0])"
      ]
     },
     "execution_count": 10,
     "metadata": {},
     "output_type": "execute_result"
    }
   ],
   "source": [
    "y_train"
   ]
  },
  {
   "cell_type": "markdown",
   "metadata": {},
   "source": [
    "## Train the Model"
   ]
  },
  {
   "cell_type": "markdown",
   "metadata": {},
   "source": [
    "Hyper Parameters for Logistic Regression\n",
    "1. penalty: Used to specify the norm used in the penalization. \n",
    "2. C: Inverse of regularization strength; must be a positive float. Like in support vector machines, smaller values specify stronger regularization.\n",
    "3. max_iter: Maximum number of iterations taken for the solvers to converge.\n",
    "\n",
    "Epoch: One Epoch is when an entire dataset is passed forward and backward through the classifier / neural network only once.\n",
    "\n",
    "Iterations: Iterations is the number of batches that is passed forward and backward through the classifier."
   ]
  },
  {
   "cell_type": "code",
   "execution_count": 11,
   "metadata": {},
   "outputs": [
    {
     "data": {
      "text/plain": [
       "LogisticRegression(max_iter=10000)"
      ]
     },
     "execution_count": 11,
     "metadata": {},
     "output_type": "execute_result"
    }
   ],
   "source": [
    "# Delcare a Logistic Regression classifier\n",
    "lr_clf = LogisticRegression(penalty='l2',C=1.0, max_iter=10000)\n",
    "# Train the classifier until max_iterations\n",
    "lr_clf.fit(X_train, y_train)"
   ]
  },
  {
   "cell_type": "code",
   "execution_count": 12,
   "metadata": {},
   "outputs": [
    {
     "name": "stdout",
     "output_type": "stream",
     "text": [
      "[[11  0  0]\n",
      " [ 0  7  1]\n",
      " [ 0  0 11]]\n",
      "              precision    recall  f1-score   support\n",
      "\n",
      "           0       1.00      1.00      1.00        11\n",
      "           1       1.00      0.88      0.93         8\n",
      "           2       0.92      1.00      0.96        11\n",
      "\n",
      "    accuracy                           0.97        30\n",
      "   macro avg       0.97      0.96      0.96        30\n",
      "weighted avg       0.97      0.97      0.97        30\n",
      "\n",
      "0.9666666666666667\n"
     ]
    }
   ],
   "source": [
    "# predicting \n",
    "from sklearn.metrics import classification_report,confusion_matrix\n",
    "lr_p=lr_clf.predict(X_test)\n",
    "\n",
    "# printing confusion matrix\n",
    "print(confusion_matrix(y_test,lr_p))\n",
    "# printing classification report\n",
    "print(classification_report(y_test,lr_p))\n",
    "print(accuracy_score(y_test,lr_p))"
   ]
  },
  {
   "cell_type": "markdown",
   "metadata": {},
   "source": [
    "Hyper Parameters for Decision Trees\n",
    "1. criterion: The function to measure the quality of a split. Supported criteria are “gini” for the Gini impurity and “entropy” for the information gain.\n",
    " - Gini: The gini impurity measures the frequency at which any element of the dataset will be mislabelled when it is randomly labeled.\n",
    " - Entropy is a measure of information that indicates the disorder of the features with the target.\n",
    "2. splitter: The strategy used to choose the split at each node. Supported strategies are “best” to choose the best split and “random” to choose the best random split.\n",
    "3. max_depth: The maximum depth of the tree. If None, then nodes are expanded until all leaves are pure or until all leaves contain less than min_samples_split samples\n",
    "4. min_samples_split: The minimum number of samples required to split an internal node"
   ]
  },
  {
   "cell_type": "code",
   "execution_count": 13,
   "metadata": {},
   "outputs": [
    {
     "data": {
      "text/plain": [
       "DecisionTreeClassifier()"
      ]
     },
     "execution_count": 13,
     "metadata": {},
     "output_type": "execute_result"
    }
   ],
   "source": [
    "# Declare a Decision Tree classifier\n",
    "dt_clf = DecisionTreeClassifier(criterion='gini', splitter='best', max_depth=None, min_samples_split=2)\n",
    "# Create Decision Tree on the training data\n",
    "dt_clf.fit(X_train, y_train)"
   ]
  },
  {
   "cell_type": "code",
   "execution_count": 14,
   "metadata": {},
   "outputs": [
    {
     "name": "stdout",
     "output_type": "stream",
     "text": [
      "[[11  0  0]\n",
      " [ 0  7  1]\n",
      " [ 0  0 11]]\n",
      "              precision    recall  f1-score   support\n",
      "\n",
      "           0       1.00      1.00      1.00        11\n",
      "           1       1.00      0.88      0.93         8\n",
      "           2       0.92      1.00      0.96        11\n",
      "\n",
      "    accuracy                           0.97        30\n",
      "   macro avg       0.97      0.96      0.96        30\n",
      "weighted avg       0.97      0.97      0.97        30\n",
      "\n",
      "0.9666666666666667\n"
     ]
    }
   ],
   "source": [
    "# predicting \n",
    "dt_p=dt_clf.predict(X_test)\n",
    "\n",
    "# printing confusion matrix\n",
    "print(confusion_matrix(y_test,dt_p))\n",
    "# printing classification report\n",
    "print(classification_report(y_test,dt_p))\n",
    "print(accuracy_score(y_test,dt_p))"
   ]
  },
  {
   "cell_type": "markdown",
   "metadata": {},
   "source": [
    "Hyper Parameters for SVM\n",
    "1. kernel: (‘linear’, ‘poly’, ‘rbf’, ‘sigmoid’, ‘precomputed') Specifies the kernel type to be used in the algorithm.\n",
    "2. degree: Degree of the polynomial kernel function (‘poly’). Ignored by all other kernels.\n",
    "3. gamma: Kernel coefficient for ‘rbf’, ‘poly’ and ‘sigmoid’.\n",
    "4. max_iter: Hard limit on iterations within solver, or -1 for no limit."
   ]
  },
  {
   "cell_type": "code",
   "execution_count": 15,
   "metadata": {},
   "outputs": [
    {
     "data": {
      "text/plain": [
       "SVC(kernel='poly', max_iter=300000)"
      ]
     },
     "execution_count": 15,
     "metadata": {},
     "output_type": "execute_result"
    }
   ],
   "source": [
    "# Declare the SVM classifier\n",
    "svm_clf = SVC(kernel='poly', degree=3, max_iter=300000)\n",
    "# Train until max iterations\n",
    "svm_clf.fit(X_train, y_train)"
   ]
  },
  {
   "cell_type": "code",
   "execution_count": 16,
   "metadata": {},
   "outputs": [
    {
     "name": "stdout",
     "output_type": "stream",
     "text": [
      "[[11  0  0]\n",
      " [ 0  7  1]\n",
      " [ 0  0 11]]\n",
      "              precision    recall  f1-score   support\n",
      "\n",
      "           0       1.00      1.00      1.00        11\n",
      "           1       1.00      0.88      0.93         8\n",
      "           2       0.92      1.00      0.96        11\n",
      "\n",
      "    accuracy                           0.97        30\n",
      "   macro avg       0.97      0.96      0.96        30\n",
      "weighted avg       0.97      0.97      0.97        30\n",
      "\n",
      "0.9666666666666667\n"
     ]
    }
   ],
   "source": [
    "# predicting \n",
    "svm_p=svm_clf.predict(X_test)\n",
    "\n",
    "# printing confusion matrix\n",
    "print(confusion_matrix(y_test,svm_p))\n",
    "# printing classification report\n",
    "print(classification_report(y_test,svm_p))\n",
    "print(accuracy_score(y_test,svm_p))"
   ]
  },
  {
   "cell_type": "markdown",
   "metadata": {},
   "source": [
    "Hyper Parameters for LinearRegression:\n",
    "1. fit_intercept: Whether to calculate the intercept for this model. If set to False, no intercept will be used in calculations (i.e. data is expected to be centered)\n",
    "2. normalize: If True, the regressors X will be normalized before regression by subtracting the mean and dividing by the l2-norm."
   ]
  },
  {
   "cell_type": "code",
   "execution_count": 17,
   "metadata": {},
   "outputs": [
    {
     "data": {
      "text/plain": [
       "LinearRegression()"
      ]
     },
     "execution_count": 17,
     "metadata": {},
     "output_type": "execute_result"
    }
   ],
   "source": [
    "# Linear classifier\n",
    "reg = LinearRegression()\n",
    "reg.fit(X_train, y_train)"
   ]
  },
  {
   "cell_type": "markdown",
   "metadata": {},
   "source": [
    "Gaussian Naive Bayes:\n",
    "The likelihood of the features is assumed to be Gaussian. Paramters are\n",
    "1. priors: Prior probabilities of the classes. If specified the priors are not adjusted according to the data.\n",
    "2. var_smoothing: Portion of the largest variance of all features that is added to variances for calculation stability."
   ]
  },
  {
   "cell_type": "code",
   "execution_count": 18,
   "metadata": {},
   "outputs": [
    {
     "data": {
      "text/plain": [
       "GaussianNB()"
      ]
     },
     "execution_count": 18,
     "metadata": {},
     "output_type": "execute_result"
    }
   ],
   "source": [
    "# Gaussian Naive Bayes classifier\n",
    "nb_clf = GaussianNB()\n",
    "nb_clf.fit(X_train, y_train)"
   ]
  },
  {
   "cell_type": "code",
   "execution_count": 39,
   "metadata": {},
   "outputs": [
    {
     "name": "stdout",
     "output_type": "stream",
     "text": [
      "[[4 1 5]\n",
      " [2 3 4]\n",
      " [5 3 3]]\n",
      "              precision    recall  f1-score   support\n",
      "\n",
      "           0       0.36      0.40      0.38        10\n",
      "           1       0.43      0.33      0.38         9\n",
      "           2       0.25      0.27      0.26        11\n",
      "\n",
      "    accuracy                           0.33        30\n",
      "   macro avg       0.35      0.34      0.34        30\n",
      "weighted avg       0.34      0.33      0.34        30\n",
      "\n",
      "0.3333333333333333\n"
     ]
    }
   ],
   "source": [
    "# predicting \n",
    "nb_p=nb_clf.predict(X_test)\n",
    "\n",
    "# printing confusion matrix\n",
    "print(confusion_matrix(y_test,nb_p))\n",
    "# printing classification report\n",
    "print(classification_report(y_test,nb_p))\n",
    "print(accuracy_score(y_test,nb_p))"
   ]
  },
  {
   "cell_type": "code",
   "execution_count": 40,
   "metadata": {},
   "outputs": [],
   "source": [
    "# Task 3\n",
    "# Fit KNN classifier and find the right number of neighbours that gives best performance.\n",
    "# Show results for using both Euclidean distance and Manhattan Distance metric for the KNN classifier.\n",
    "\n",
    "from sklearn.neighbors import KNeighborsClassifier\n",
    "n_neighbors=np.arange(3,12)\n",
    "optimumk=[]\n",
    "for neighbor in n_neighbors:\n",
    "    knn_clf = KNeighborsClassifier(n_neighbors=neighbor, metric=\"manhattan\")\n",
    "    knn_clf.fit(X_train, y_train)\n",
    "    knn_p=knn_clf.predict(X_test)\n",
    "    acc=accuracy_score(y_test,knn_p)\n",
    "    optimumk.append(acc)"
   ]
  },
  {
   "cell_type": "code",
   "execution_count": 41,
   "metadata": {},
   "outputs": [
    {
     "name": "stdout",
     "output_type": "stream",
     "text": [
      "max accuracy is 0.3333333333333333 when neighbors are 3\n"
     ]
    },
    {
     "data": {
      "image/png": "[encoded data removed]",
      "text/plain": [
       "<Figure size 432x288 with 1 Axes>"
      ]
     },
     "metadata": {},
     "output_type": "display_data"
    }
   ],
   "source": [
    "plt.plot(n_neighbors,optimumk)\n",
    "plt.xlabel('Neighbors')\n",
    "plt.ylabel('Accuracy')\n",
    "print(f'max accuracy is {max(optimumk)} when neighbors are {n_neighbors[optimumk.index(max(optimumk))]}')\n",
    "\n"
   ]
  },
  {
   "cell_type": "code",
   "execution_count": 42,
   "metadata": {},
   "outputs": [
    {
     "data": {
      "text/plain": [
       "(array([[0.        , 0.17320508],\n",
       "        [0.        , 0.2236068 ],\n",
       "        [0.        , 0.38729833],\n",
       "        [0.        , 0.36055513],\n",
       "        [0.        , 0.77459667],\n",
       "        [0.        , 0.2       ],\n",
       "        [0.        , 0.38729833],\n",
       "        [0.        , 0.14142136],\n",
       "        [0.        , 0.14142136],\n",
       "        [0.        , 0.43588989],\n",
       "        [0.        , 0.14142136],\n",
       "        [0.        , 0.78740079],\n",
       "        [0.        , 0.2       ],\n",
       "        [0.        , 0.2236068 ],\n",
       "        [0.        , 0.52915026],\n",
       "        [0.        , 0.36055513],\n",
       "        [0.        , 0.2236068 ],\n",
       "        [0.        , 1.47309199],\n",
       "        [0.        , 0.24494897],\n",
       "        [0.        , 0.41231056],\n",
       "        [0.        , 0.14142136],\n",
       "        [0.        , 0.38729833],\n",
       "        [0.        , 0.38729833],\n",
       "        [0.        , 0.14142136],\n",
       "        [0.        , 0.2236068 ],\n",
       "        [0.        , 0.38729833],\n",
       "        [0.        , 0.47958315],\n",
       "        [0.        , 0.45825757],\n",
       "        [0.        , 0.2236068 ],\n",
       "        [0.        , 0.17320508]]),\n",
       " array([[ 0, 29],\n",
       "        [ 1, 16],\n",
       "        [ 2, 22],\n",
       "        [ 3, 15],\n",
       "        [ 4, 26],\n",
       "        [ 5, 12],\n",
       "        [ 6, 21],\n",
       "        [ 7, 23],\n",
       "        [ 8, 10],\n",
       "        [ 9,  1],\n",
       "        [10,  8],\n",
       "        [11, 15],\n",
       "        [12,  5],\n",
       "        [13, 28],\n",
       "        [14, 29],\n",
       "        [15,  3],\n",
       "        [16,  1],\n",
       "        [17, 28],\n",
       "        [18, 24],\n",
       "        [19, 22],\n",
       "        [20,  8],\n",
       "        [21,  6],\n",
       "        [22,  2],\n",
       "        [23,  7],\n",
       "        [24, 10],\n",
       "        [25, 28],\n",
       "        [26,  1],\n",
       "        [27, 19],\n",
       "        [28, 13],\n",
       "        [29,  0]], dtype=int64))"
      ]
     },
     "execution_count": 42,
     "metadata": {},
     "output_type": "execute_result"
    }
   ],
   "source": [
    "from sklearn.neighbors import KDTree\n",
    "\n",
    "import numpy as np\n",
    "kdt = KDTree(X_test, leaf_size=20, metric='euclidean')\n",
    "kdt.query(X_test, k=2, return_distance=True)"
   ]
  },
  {
   "cell_type": "code",
   "execution_count": 43,
   "metadata": {},
   "outputs": [
    {
     "data": {
      "text/plain": [
       "AdaBoostClassifier(n_estimators=100)"
      ]
     },
     "execution_count": 43,
     "metadata": {},
     "output_type": "execute_result"
    }
   ],
   "source": [
    "# Task 4 Implement two other classifiers of your choice\n",
    "\n",
    "from sklearn.ensemble import AdaBoostClassifier\n",
    "\n",
    "\n",
    "ada_clf = AdaBoostClassifier(n_estimators=100)\n",
    "ada_clf.fit(X_train, y_train)"
   ]
  },
  {
   "cell_type": "code",
   "execution_count": 44,
   "metadata": {},
   "outputs": [
    {
     "name": "stdout",
     "output_type": "stream",
     "text": [
      "[[4 1 5]\n",
      " [2 4 3]\n",
      " [5 3 3]]\n",
      "              precision    recall  f1-score   support\n",
      "\n",
      "           0       0.36      0.40      0.38        10\n",
      "           1       0.50      0.44      0.47         9\n",
      "           2       0.27      0.27      0.27        11\n",
      "\n",
      "    accuracy                           0.37        30\n",
      "   macro avg       0.38      0.37      0.37        30\n",
      "weighted avg       0.37      0.37      0.37        30\n",
      "\n",
      "0.36666666666666664\n"
     ]
    }
   ],
   "source": [
    "# predicting \n",
    "ada_p=ada_clf.predict(X_test)\n",
    "\n",
    "# printing confusion matrix\n",
    "print(confusion_matrix(y_test,ada_p))\n",
    "# printing classification report\n",
    "print(classification_report(y_test,ada_p))\n",
    "print(accuracy_score(y_test,ada_p))"
   ]
  },
  {
   "cell_type": "code",
   "execution_count": 45,
   "metadata": {},
   "outputs": [
    {
     "name": "stdout",
     "output_type": "stream",
     "text": [
      "accuracy with LogisticRegression : 0.3333333333333333\n",
      "accuracy with DecisionTreeClassifier : 0.3333333333333333\n",
      "accuracy with SVC : 0.3333333333333333\n",
      "accuracy with KNeighborsClassifier : 0.3333333333333333\n",
      "accuracy with AdaBoostClassifier : 0.36666666666666664\n",
      "accuracy with GaussianNB : 0.3333333333333333\n"
     ]
    }
   ],
   "source": [
    "#selecting the best algorithm from all the algorithms based on accuracy\n",
    "classifier=[lr_clf,dt_clf,svm_clf,knn_clf,ada_clf,nb_clf]\n",
    "predictions=[lr_p,dt_p,svm_p,knn_p,ada_p,nb_p]\n",
    "\n",
    "\n",
    "for clf,pred in zip(classifier,predictions):\n",
    "    print(f'accuracy with {clf.__class__.__name__} : {accuracy_score(y_test,pred)}')"
   ]
  },
  {
   "cell_type": "markdown",
   "metadata": {},
   "source": [
    "## Evaluate the Model"
   ]
  },
  {
   "cell_type": "markdown",
   "metadata": {},
   "source": [
    "Now we predict using our trained model on the test set we created and evaluate our model on unforeseen data.\n",
    "The performance will be reflected in various standard metrics."
   ]
  },
  {
   "cell_type": "code",
   "execution_count": 46,
   "metadata": {},
   "outputs": [
    {
     "data": {
      "text/plain": [
       "array([2, 2, 0, 1, 2, 0, 1, 1, 0, 2, 0, 1, 0, 2, 2, 1, 2, 2, 0, 0, 0, 1,\n",
       "       0, 1, 0, 2, 2, 0, 2, 2])"
      ]
     },
     "execution_count": 46,
     "metadata": {},
     "output_type": "execute_result"
    }
   ],
   "source": [
    "#Predicting for test data\n",
    "y_pred = clf.predict(X_test)\n",
    "y_pred"
   ]
  },
  {
   "cell_type": "code",
   "execution_count": 47,
   "metadata": {},
   "outputs": [],
   "source": [
    "#Calculating results for various evaluation metric\n",
    "precision = precision_score(y_test,y_pred, average='micro')\n",
    "recall = recall_score(y_test,y_pred, average='micro')\n",
    "accuracy = accuracy_score(y_test,y_pred)\n",
    "f1 = f1_score(y_test,y_pred, average='macro')"
   ]
  },
  {
   "cell_type": "code",
   "execution_count": 48,
   "metadata": {},
   "outputs": [
    {
     "name": "stdout",
     "output_type": "stream",
     "text": [
      "Accuracy: 0.3333333333333333\n",
      "Recall: 0.3333333333333333\n",
      "Precision: 0.3333333333333333\n",
      "F1-score: 0.3389406487232574\n"
     ]
    }
   ],
   "source": [
    "print(f\"Accuracy: {accuracy}\")\n",
    "print(f\"Recall: {recall}\")\n",
    "print(f\"Precision: {precision}\")\n",
    "print(f\"F1-score: {f1}\")"
   ]
  },
  {
   "cell_type": "markdown",
   "metadata": {},
   "source": [
    "## Visualization of Results"
   ]
  },
  {
   "cell_type": "code",
   "execution_count": 49,
   "metadata": {},
   "outputs": [
    {
     "data": {
      "text/plain": [
       "array([[4, 1, 5],\n",
       "       [2, 3, 4],\n",
       "       [5, 3, 3]], dtype=int64)"
      ]
     },
     "execution_count": 49,
     "metadata": {},
     "output_type": "execute_result"
    }
   ],
   "source": [
    "## Task 5: Insert the code for visualizing the comfusion matrix here\n",
    "#store the confusion matrix in the variable cm with dim:2x2\n",
    "\n",
    "cm = confusion_matrix(y_test , y_pred)\n",
    "cm"
   ]
  },
  {
   "cell_type": "code",
   "execution_count": 50,
   "metadata": {},
   "outputs": [
    {
     "data": {
      "image/png": "[encoded data removed]",
      "text/plain": [
       "<Figure size 432x288 with 2 Axes>"
      ]
     },
     "metadata": {},
     "output_type": "display_data"
    }
   ],
   "source": [
    "df_cm = pd.DataFrame(cm, range(cm.shape[0]), range(cm.shape[1]))\n",
    "sns.set(font_scale=1) # for label size\n",
    "sns.heatmap(df_cm, annot=True, annot_kws={\"size\": 16}) # font size\n",
    "plt.show()"
   ]
  },
  {
   "cell_type": "code",
   "execution_count": 51,
   "metadata": {},
   "outputs": [],
   "source": [
    "# Final model\n",
    "model=LogisticRegression(solver='liblinear',class_weight= None,multi_class= 'ovr', \n",
    "                  dual=False, penalty= 'l2',C=0.3,max_iter=300000)\n",
    "# train the model\n",
    "model.fit(X_train,y_train)\n",
    "\n",
    "# predicting activity labels\n",
    "pred_y=model.predict(X_test)"
   ]
  },
  {
   "cell_type": "code",
   "execution_count": 52,
   "metadata": {},
   "outputs": [
    {
     "data": {
      "text/plain": [
       "array([0.        , 0.27272727, 0.54545455, 1.        ])"
      ]
     },
     "execution_count": 52,
     "metadata": {},
     "output_type": "execute_result"
    }
   ],
   "source": [
    "# Task 5: Calculate ROC curve and find fpr, tpr, thresholds\n",
    "from sklearn import metrics\n",
    "\n",
    "fpr , tpr, thresholds = metrics.roc_curve(y_test,y_pred,pos_label=2)\n",
    "tpr\n"
   ]
  },
  {
   "cell_type": "code",
   "execution_count": 53,
   "metadata": {},
   "outputs": [
    {
     "data": {
      "image/png": "[encoded data removed]",
      "text/plain": [
       "<Figure size 432x288 with 1 Axes>"
      ]
     },
     "metadata": {},
     "output_type": "display_data"
    },
    {
     "name": "stdout",
     "output_type": "stream",
     "text": [
      "\n",
      "\n",
      "Area Under Curve: 0.39\n",
      "\n",
      "\n"
     ]
    }
   ],
   "source": [
    "# Display the values into a plot\n",
    "fig, ax = plt.subplots()\n",
    "ax.plot(fpr, tpr)\n",
    "ax.plot([0, 1], [0, 1], transform=ax.transAxes, ls=\"--\", c=\".3\")\n",
    "plt.xlim([0.0, 1.0])\n",
    "plt.ylim([0.0, 1.0])\n",
    "plt.rcParams['font.size'] = 12\n",
    "plt.xlabel('False Positive Rate (1 - Recall)')\n",
    "plt.ylabel('True Positive Rate (Sensitivity)')\n",
    "plt.grid(True)\n",
    "plt.show()\n",
    "print(\"\\n\")\n",
    "print (\"Area Under Curve: %.2f\" %auc(fpr, tpr))\n",
    "print(\"\\n\")"
   ]
  },
  {
   "cell_type": "markdown",
   "metadata": {},
   "source": [
    "## Comparing results with k-fold validation"
   ]
  },
  {
   "cell_type": "code",
   "execution_count": 54,
   "metadata": {},
   "outputs": [],
   "source": [
    "# Implement K-fold validation and compare the perfromance with 80-20 random split (using sklearn methods)\n",
    "\n",
    "# k-fold validation:\n",
    "from sklearn.model_selection import cross_val_score\n",
    "from sklearn.metrics import make_scorer\n",
    "# Declare the number of splits to be used in k-fold validation\n",
    "kf = KFold(shuffle=True, n_splits=5)\n",
    "# Declare the metric to be used for evaluation in k-fold validation\n",
    "metric = make_scorer(accuracy_score)\n",
    "# Pass the model, data, labels, metric in cross validation method\n",
    "scores = cross_val_score(clf, x, y, scoring=metric, cv=kf, n_jobs=-1)"
   ]
  },
  {
   "cell_type": "code",
   "execution_count": 55,
   "metadata": {},
   "outputs": [
    {
     "data": {
      "text/plain": [
       "array([0.9       , 0.86666667, 0.96666667, 1.        , 0.96666667])"
      ]
     },
     "execution_count": 55,
     "metadata": {},
     "output_type": "execute_result"
    }
   ],
   "source": [
    "scores"
   ]
  },
  {
   "cell_type": "code",
   "execution_count": 56,
   "metadata": {},
   "outputs": [],
   "source": [
    "#Implement KNN model (not using sklearn).\n",
    "\n",
    "import numpy as np\n",
    "import scipy.spatial\n",
    "from collections import Counter\n",
    "\n",
    "from sklearn import datasets\n",
    "from sklearn.model_selection import train_test_split\n",
    "output = './german.data'\n",
    "X_train, y_pred, y_train, y_test = train_test_split(x,y,random_state = 42, test_size=0.2)"
   ]
  },
  {
   "cell_type": "code",
   "execution_count": 57,
   "metadata": {},
   "outputs": [
    {
     "name": "stdout",
     "output_type": "stream",
     "text": [
      "1 0 2 1 1 0 1 2 1 1 2 0 0 0 0 1 2 1 1 2 0 2 0 2 2 2 2 2 0 0 "
     ]
    },
    {
     "data": {
      "text/plain": [
       "1.0"
      ]
     },
     "execution_count": 57,
     "metadata": {},
     "output_type": "execute_result"
    }
   ],
   "source": [
    "\n",
    "\n",
    "class KNN:\n",
    "    def __init__(self, k):\n",
    "        self.k = k\n",
    "\n",
    "    def fit(self, X, y):\n",
    "        self.X_train = X\n",
    "        self.y_train = y\n",
    "\n",
    "    def distance(self, X1, X2):\n",
    "        distance = scipy.spatial.distance.euclidean(X1, X2)\n",
    "\n",
    "    def predict(self, y_pred):\n",
    "        final_output = []\n",
    "        for i in range(len(y_pred)):\n",
    "            d = []\n",
    "            votes = []\n",
    "            for j in range(len(X_train)):\n",
    "                dist = scipy.spatial.distance.euclidean(X_train[j] , y_pred[i])\n",
    "                d.append([dist, j])\n",
    "            d.sort()\n",
    "            d = d[0:self.k]\n",
    "            for d, j in d:\n",
    "                votes.append(y_train[j])\n",
    "            ans = Counter(votes).most_common(1)[0][0]\n",
    "            final_output.append(ans)\n",
    "\n",
    "        return final_output\n",
    "\n",
    "    def score(self, y_pred, y_test):\n",
    "        predictions = self.predict(y_pred)\n",
    "        return (predictions == y_test).sum() / len(y_test)\n",
    "\n",
    "    \n",
    "clf = KNN(3)\n",
    "clf.fit(X_train, y_train)\n",
    "prediction = clf.predict(y_pred)\n",
    "for i in prediction:\n",
    "    print(i, end= ' ')\n",
    "\n",
    "prediction == y_test\n",
    "\n",
    "clf.score(y_pred, y_test)\n",
    "\n"
   ]
  },
  {
   "cell_type": "code",
   "execution_count": 58,
   "metadata": {},
   "outputs": [
    {
     "name": "stdout",
     "output_type": "stream",
     "text": [
      "accuracy with user defined KNN is 1.0\n"
     ]
    }
   ],
   "source": [
    "knn_user = KNN(3)\n",
    "knn_user.fit(X_train, y_train)\n",
    "\n",
    "prediction = clf.predict(X_test)\n",
    "\n",
    "acc=clf.score(y_pred, y_test)\n",
    "print(f'accuracy with user defined KNN is {acc}')"
   ]
  },
  {
   "cell_type": "code",
   "execution_count": null,
   "metadata": {},
   "outputs": [],
   "source": []
  }
 ],
 "metadata": {
  "kernelspec": {
   "display_name": "Python 3",
   "language": "python",
   "name": "python3"
  },
  "language_info": {
   "codemirror_mode": {
    "name": "ipython",
    "version": 3
   },
   "file_extension": ".py",
   "mimetype": "text/x-python",
   "name": "python",
   "nbconvert_exporter": "python",
   "pygments_lexer": "ipython3",
   "version": "3.9.5"
  }
 },
 "nbformat": 4,
 "nbformat_minor": 2
}
