{
  "nbformat": 4,
  "nbformat_minor": 5,
  "metadata": {
    "kernelspec": {
      "display_name": "Python 3",
      "language": "python",
      "name": "python3"
    },
    "language_info": {
      "codemirror_mode": {
        "name": "ipython",
        "version": 3
      },
      "file_extension": ".py",
      "mimetype": "text/x-python",
      "name": "python",
      "nbconvert_exporter": "python",
      "pygments_lexer": "ipython3",
      "version": "3.8.5"
    },
    "colab": {
      "name": "Neural_nets_starter.ipynb",
      "provenance": [],
      "collapsed_sections": []
    },
    "widgets": {
      "application/vnd.jupyter.widget-state+json": {
        "635d8aca5da849c2a3dfa4f3594d9709": {
          "model_module": "@jupyter-widgets/controls",
          "model_name": "HBoxModel",
          "state": {
            "_view_name": "HBoxView",
            "_dom_classes": [],
            "_model_name": "HBoxModel",
            "_view_module": "@jupyter-widgets/controls",
            "_model_module_version": "1.5.0",
            "_view_count": null,
            "_view_module_version": "1.5.0",
            "box_style": "",
            "layout": "IPY_MODEL_df700e42fab34bc1b8eb349df6480b6f",
            "_model_module": "@jupyter-widgets/controls",
            "children": [
              "IPY_MODEL_0c5ac96e4d504fccadcaef7febf94713",
              "IPY_MODEL_c173a9fa11424ee9949c09df9b9f3bf7"
            ]
          }
        },
        "df700e42fab34bc1b8eb349df6480b6f": {
          "model_module": "@jupyter-widgets/base",
          "model_name": "LayoutModel",
          "state": {
            "_view_name": "LayoutView",
            "grid_template_rows": null,
            "right": null,
            "justify_content": null,
            "_view_module": "@jupyter-widgets/base",
            "overflow": null,
            "_model_module_version": "1.2.0",
            "_view_count": null,
            "flex_flow": null,
            "width": null,
            "min_width": null,
            "border": null,
            "align_items": null,
            "bottom": null,
            "_model_module": "@jupyter-widgets/base",
            "top": null,
            "grid_column": null,
            "overflow_y": null,
            "overflow_x": null,
            "grid_auto_flow": null,
            "grid_area": null,
            "grid_template_columns": null,
            "flex": null,
            "_model_name": "LayoutModel",
            "justify_items": null,
            "grid_row": null,
            "max_height": null,
            "align_content": null,
            "visibility": null,
            "align_self": null,
            "height": null,
            "min_height": null,
            "padding": null,
            "grid_auto_rows": null,
            "grid_gap": null,
            "max_width": null,
            "order": null,
            "_view_module_version": "1.2.0",
            "grid_template_areas": null,
            "object_position": null,
            "object_fit": null,
            "grid_auto_columns": null,
            "margin": null,
            "display": null,
            "left": null
          }
        },
        "0c5ac96e4d504fccadcaef7febf94713": {
          "model_module": "@jupyter-widgets/controls",
          "model_name": "FloatProgressModel",
          "state": {
            "_view_name": "ProgressView",
            "style": "IPY_MODEL_4e6fdf04d4b648d18c20a434a0425aee",
            "_dom_classes": [],
            "description": "",
            "_model_name": "FloatProgressModel",
            "bar_style": "success",
            "max": 170498071,
            "_view_module": "@jupyter-widgets/controls",
            "_model_module_version": "1.5.0",
            "value": 170498071,
            "_view_count": null,
            "_view_module_version": "1.5.0",
            "orientation": "horizontal",
            "min": 0,
            "description_tooltip": null,
            "_model_module": "@jupyter-widgets/controls",
            "layout": "IPY_MODEL_b68ae8a867f844c3b257f3ae6e35c687"
          }
        },
        "c173a9fa11424ee9949c09df9b9f3bf7": {
          "model_module": "@jupyter-widgets/controls",
          "model_name": "HTMLModel",
          "state": {
            "_view_name": "HTMLView",
            "style": "IPY_MODEL_6eaa60ac182b46e09d8b4ffd6db67043",
            "_dom_classes": [],
            "description": "",
            "_model_name": "HTMLModel",
            "placeholder": "​",
            "_view_module": "@jupyter-widgets/controls",
            "_model_module_version": "1.5.0",
            "value": " 170499072/? [03:37&lt;00:00, 784179.21it/s]",
            "_view_count": null,
            "_view_module_version": "1.5.0",
            "description_tooltip": null,
            "_model_module": "@jupyter-widgets/controls",
            "layout": "IPY_MODEL_3ee9e6f0ae404cfc8fc2c569dc93cf45"
          }
        },
        "4e6fdf04d4b648d18c20a434a0425aee": {
          "model_module": "@jupyter-widgets/controls",
          "model_name": "ProgressStyleModel",
          "state": {
            "_view_name": "StyleView",
            "_model_name": "ProgressStyleModel",
            "description_width": "initial",
            "_view_module": "@jupyter-widgets/base",
            "_model_module_version": "1.5.0",
            "_view_count": null,
            "_view_module_version": "1.2.0",
            "bar_color": null,
            "_model_module": "@jupyter-widgets/controls"
          }
        },
        "b68ae8a867f844c3b257f3ae6e35c687": {
          "model_module": "@jupyter-widgets/base",
          "model_name": "LayoutModel",
          "state": {
            "_view_name": "LayoutView",
            "grid_template_rows": null,
            "right": null,
            "justify_content": null,
            "_view_module": "@jupyter-widgets/base",
            "overflow": null,
            "_model_module_version": "1.2.0",
            "_view_count": null,
            "flex_flow": null,
            "width": null,
            "min_width": null,
            "border": null,
            "align_items": null,
            "bottom": null,
            "_model_module": "@jupyter-widgets/base",
            "top": null,
            "grid_column": null,
            "overflow_y": null,
            "overflow_x": null,
            "grid_auto_flow": null,
            "grid_area": null,
            "grid_template_columns": null,
            "flex": null,
            "_model_name": "LayoutModel",
            "justify_items": null,
            "grid_row": null,
            "max_height": null,
            "align_content": null,
            "visibility": null,
            "align_self": null,
            "height": null,
            "min_height": null,
            "padding": null,
            "grid_auto_rows": null,
            "grid_gap": null,
            "max_width": null,
            "order": null,
            "_view_module_version": "1.2.0",
            "grid_template_areas": null,
            "object_position": null,
            "object_fit": null,
            "grid_auto_columns": null,
            "margin": null,
            "display": null,
            "left": null
          }
        },
        "6eaa60ac182b46e09d8b4ffd6db67043": {
          "model_module": "@jupyter-widgets/controls",
          "model_name": "DescriptionStyleModel",
          "state": {
            "_view_name": "StyleView",
            "_model_name": "DescriptionStyleModel",
            "description_width": "",
            "_view_module": "@jupyter-widgets/base",
            "_model_module_version": "1.5.0",
            "_view_count": null,
            "_view_module_version": "1.2.0",
            "_model_module": "@jupyter-widgets/controls"
          }
        },
        "3ee9e6f0ae404cfc8fc2c569dc93cf45": {
          "model_module": "@jupyter-widgets/base",
          "model_name": "LayoutModel",
          "state": {
            "_view_name": "LayoutView",
            "grid_template_rows": null,
            "right": null,
            "justify_content": null,
            "_view_module": "@jupyter-widgets/base",
            "overflow": null,
            "_model_module_version": "1.2.0",
            "_view_count": null,
            "flex_flow": null,
            "width": null,
            "min_width": null,
            "border": null,
            "align_items": null,
            "bottom": null,
            "_model_module": "@jupyter-widgets/base",
            "top": null,
            "grid_column": null,
            "overflow_y": null,
            "overflow_x": null,
            "grid_auto_flow": null,
            "grid_area": null,
            "grid_template_columns": null,
            "flex": null,
            "_model_name": "LayoutModel",
            "justify_items": null,
            "grid_row": null,
            "max_height": null,
            "align_content": null,
            "visibility": null,
            "align_self": null,
            "height": null,
            "min_height": null,
            "padding": null,
            "grid_auto_rows": null,
            "grid_gap": null,
            "max_width": null,
            "order": null,
            "_view_module_version": "1.2.0",
            "grid_template_areas": null,
            "object_position": null,
            "object_fit": null,
            "grid_auto_columns": null,
            "margin": null,
            "display": null,
            "left": null
          }
        }
      }
    }
  },
  "cells": [
    {
      "cell_type": "markdown",
      "metadata": {
        "id": "XLnaSFw62RjM"
      },
      "source": [
        "# Neural Nets assignment\n",
        "\n",
        "We will do the following steps in order:\n",
        "\n",
        "1. Load and normalize the CIFAR10 training and test datasets using torchvision\n",
        "2. Define a Convolutional Neural Network\n",
        "3. Define a loss function\n",
        "4. Train the network on the training data\n",
        "5. Test the network on the test data"
      ],
      "id": "XLnaSFw62RjM"
    },
    {
      "cell_type": "markdown",
      "metadata": {
        "id": "qdulzrnN2Rja"
      },
      "source": [
        "# Loading the dataset\n",
        "\n",
        "Generally, when you have to deal with image, text, audio or video data, you can use standard python packages that load data into a numpy array. Then you can convert this array into a torch tensor.\n",
        "\n",
        "We will use the CIFAR10 dataset. It has the classes: `airplane`, `automobile`, `bird`, `cat`, `deer`, `dog`, `frog`, `horse`, `ship`, `truck`. \n",
        "\n",
        "The images in CIFAR-10 are of size `3x32x32`, i.e. 3-channel color images of 32x32 pixels in size.\n",
        "\n",
        "We will use a package called `torchvision`, that has data loaders for common datasets such as Imagenet, CIFAR10, MNIST, etc. This provides a huge convenience and avoids writing boilerplate code.\n",
        "\n",
        "\n"
      ],
      "id": "qdulzrnN2Rja"
    },
    {
      "cell_type": "code",
      "metadata": {
        "id": "Lne_ucFo2Rjc"
      },
      "source": [
        "import torch\n",
        "import torchvision\n",
        "import torchvision.transforms as transforms"
      ],
      "id": "Lne_ucFo2Rjc",
      "execution_count": 2,
      "outputs": []
    },
    {
      "cell_type": "code",
      "metadata": {
        "colab": {
          "base_uri": "https://localhost:8080/",
          "height": 117,
          "referenced_widgets": [
            "635d8aca5da849c2a3dfa4f3594d9709",
            "df700e42fab34bc1b8eb349df6480b6f",
            "0c5ac96e4d504fccadcaef7febf94713",
            "c173a9fa11424ee9949c09df9b9f3bf7",
            "4e6fdf04d4b648d18c20a434a0425aee",
            "b68ae8a867f844c3b257f3ae6e35c687",
            "6eaa60ac182b46e09d8b4ffd6db67043",
            "3ee9e6f0ae404cfc8fc2c569dc93cf45"
          ]
        },
        "id": "SUrY1Tq82Rjf",
        "outputId": "b9857745-01a3-4926-cd25-9c89d10bf58c"
      },
      "source": [
        "transform = transforms.Compose(\n",
        "    [transforms.ToTensor(),\n",
        "     transforms.Normalize((0.5, 0.5, 0.5), (0.5, 0.5, 0.5))])\n",
        "\n",
        "batch_size = 4\n",
        "\n",
        "trainset = torchvision.datasets.CIFAR10(root='./data', train=True, download=True, transform=transform)\n",
        "trainloader = torch.utils.data.DataLoader(trainset, batch_size=batch_size, shuffle=True, num_workers=2)\n",
        "\n",
        "testset = torchvision.datasets.CIFAR10(root='./data', train=False,download=True, transform=transform)\n",
        "testloader = torch.utils.data.DataLoader(testset, batch_size=batch_size, shuffle=False, num_workers=2)\n",
        "\n",
        "classes = ('plane', 'car', 'bird', 'cat','deer', 'dog', 'frog', 'horse', 'ship', 'truck')\n"
      ],
      "id": "SUrY1Tq82Rjf",
      "execution_count": 3,
      "outputs": [
        {
          "output_type": "stream",
          "text": [
            "Downloading https://www.cs.toronto.edu/~kriz/cifar-10-python.tar.gz to ./data/cifar-10-python.tar.gz\n"
          ],
          "name": "stdout"
        },
        {
          "output_type": "display_data",
          "data": {
            "application/vnd.jupyter.widget-view+json": {
              "model_id": "635d8aca5da849c2a3dfa4f3594d9709",
              "version_minor": 0,
              "version_major": 2
            },
            "text/plain": [
              "HBox(children=(FloatProgress(value=0.0, max=170498071.0), HTML(value='')))"
            ]
          },
          "metadata": {
            "tags": []
          }
        },
        {
          "output_type": "stream",
          "text": [
            "\n",
            "Extracting ./data/cifar-10-python.tar.gz to ./data\n",
            "Files already downloaded and verified\n"
          ],
          "name": "stdout"
        }
      ]
    },
    {
      "cell_type": "code",
      "metadata": {
        "colab": {
          "base_uri": "https://localhost:8080/"
        },
        "id": "7_LHmprb2Rjl",
        "outputId": "c4af273a-e8cd-4afe-ab16-529830395d2b"
      },
      "source": [
        "# Task 1: Load the dataset with a different batch size\n",
        "transform = transforms.Compose(\n",
        "    [transforms.ToTensor(),\n",
        "     transforms.Normalize((0.5, 0.5, 0.5), (0.5, 0.5, 0.5))])\n",
        "\n",
        "batch_size = 8\n",
        "#Tak1 executed with different batch size\n",
        "trainset = torchvision.datasets.CIFAR10(root='./data', train=True, download=True, transform=transform)\n",
        "trainloader = torch.utils.data.DataLoader(trainset, batch_size=batch_size, shuffle=True, num_workers=2)\n",
        "\n",
        "testset = torchvision.datasets.CIFAR10(root='./data', train=False,download=True, transform=transform)\n",
        "testloader = torch.utils.data.DataLoader(testset, batch_size=batch_size, shuffle=False, num_workers=2)\n",
        "\n",
        "classes = ('plane', 'car', 'bird', 'cat','deer', 'dog', 'frog', 'horse', 'ship', 'truck')"
      ],
      "id": "7_LHmprb2Rjl",
      "execution_count": 6,
      "outputs": [
        {
          "output_type": "stream",
          "text": [
            "Files already downloaded and verified\n",
            "Files already downloaded and verified\n"
          ],
          "name": "stdout"
        }
      ]
    },
    {
      "cell_type": "markdown",
      "metadata": {
        "id": "otTDDuBK2Rjo"
      },
      "source": [
        "# Visualization\n",
        "\n",
        "To get a better understanding and to have some fun, we can have a look at some of the images from the training set"
      ],
      "id": "otTDDuBK2Rjo"
    },
    {
      "cell_type": "code",
      "metadata": {
        "id": "anziWGIu2Rjq"
      },
      "source": [
        "import matplotlib.pyplot as plt\n",
        "import numpy as np"
      ],
      "id": "anziWGIu2Rjq",
      "execution_count": 7,
      "outputs": []
    },
    {
      "cell_type": "code",
      "metadata": {
        "colab": {
          "base_uri": "https://localhost:8080/",
          "height": 112
        },
        "id": "MPUAKywL2Rjr",
        "outputId": "82d530a1-e8b8-47c0-d3b0-ec6d78f53a26"
      },
      "source": [
        "# function to show an image\n",
        "\n",
        "def imshow(img):\n",
        "    img = img / 2 + 0.5 \n",
        "    npimg = img.numpy()\n",
        "    plt.imshow(np.transpose(npimg, (1, 2, 0)))\n",
        "    plt.show()\n",
        "\n",
        "# get some random training images\n",
        "dataiter = iter(trainloader)\n",
        "images, labels = dataiter.next()\n",
        "\n",
        "# show images\n",
        "imshow(torchvision.utils.make_grid(images))\n",
        "\n",
        "# print labels\n",
        "print(' '.join(classes[labels[j]] for j in range(batch_size)))"
      ],
      "id": "MPUAKywL2Rjr",
      "execution_count": 8,
      "outputs": [
        {
          "output_type": "display_data",
          "data": {
            "image/png": "[encoded data removed]",
            "text/plain": [
              "<Figure size 432x288 with 1 Axes>"
            ]
          },
          "metadata": {
            "tags": [],
            "needs_background": "light"
          }
        },
        {
          "output_type": "stream",
          "text": [
            "ship dog plane car horse truck plane deer\n"
          ],
          "name": "stdout"
        }
      ]
    },
    {
      "cell_type": "markdown",
      "metadata": {
        "id": "7XwaKmSi2Rju"
      },
      "source": [
        "# Initializing the model\n",
        "\n",
        "Key nn components in torch:\n",
        "\n",
        "- `torch.Tensor` - A multi-dimensional array with support for autograd operations like backward(). Also holds the gradient w.r.t. the tensor.\n",
        "- `torch.nn.Sequential` - A pytorch module which gives us a convinient way to build networks like this where a tensor is passed sequentially through operations.\n",
        "- `torch.nn.Linear` - A neural net layer for linear transformation.\n",
        "- `torch.nn.Conv2d` - A layer which applies a 2D convolution over an input signal composed of several input planes.\n",
        "- `torch.nn.MaxPool2d` - A layer which applies a 2D max pooling over an input signal composed of several input planes.\n",
        "- `torch.nn.ReLU` - A non linear activation layer which applies the rectified linear unit function element-wise.\n"
      ],
      "id": "7XwaKmSi2Rju"
    },
    {
      "cell_type": "code",
      "metadata": {
        "id": "KxVwvlFp2Rjx"
      },
      "source": [
        "import torch.nn as nn"
      ],
      "id": "KxVwvlFp2Rjx",
      "execution_count": 9,
      "outputs": []
    },
    {
      "cell_type": "code",
      "metadata": {
        "id": "q1cf51Pu2Rjy"
      },
      "source": [
        "# hyperparameters\n",
        "input_channel = 3\n",
        "kernel_size = 5\n",
        "output_size = 10\n",
        "pooling_size = 2\n",
        "\n",
        "hidden_sizes = [128, 64]\n",
        "conv_sizes = [6, 16]\n",
        "\n",
        "# model\n",
        "model = nn.Sequential(\n",
        "    nn.Conv2d(input_channel, conv_sizes[0], kernel_size),\n",
        "    nn.ReLU(),\n",
        "    nn.MaxPool2d(pooling_size),\n",
        "    \n",
        "    nn.Conv2d(conv_sizes[0], conv_sizes[1], kernel_size),\n",
        "    nn.ReLU(),\n",
        "    nn.MaxPool2d(pooling_size),\n",
        "    \n",
        "    nn.Flatten(),\n",
        "    \n",
        "    nn.Linear(16 * 5 * 5, hidden_sizes[0]),\n",
        "    nn.ReLU(),\n",
        "    nn.Linear(hidden_sizes[0], hidden_sizes[1]),\n",
        "    nn.ReLU(),\n",
        "    nn.Linear(hidden_sizes[1], output_size)\n",
        ")"
      ],
      "id": "q1cf51Pu2Rjy",
      "execution_count": 10,
      "outputs": []
    },
    {
      "cell_type": "markdown",
      "metadata": {
        "id": "U_2ynBBl2Rj0"
      },
      "source": [
        "# Loss function and optimizer\n",
        "\n",
        "A loss function takes the (output, target) pair of inputs, and computes a value that estimates how far away the output is from the target.\n",
        "\n",
        "\n",
        "There are several different loss functions under the nn package . Example of a simple loss is: nn.MSELoss which computes the mean-squared error between the input and the target.\n",
        "\n",
        "Here we are using CrossEntropyLoss\n",
        "Optimizers require the parameters to optimize and a learning rate"
      ],
      "id": "U_2ynBBl2Rj0"
    },
    {
      "cell_type": "code",
      "metadata": {
        "colab": {
          "base_uri": "https://localhost:8080/"
        },
        "id": "ARrAzsCc2Rj3",
        "outputId": "ba4c6d15-c300-45cb-e16f-a88daa1fff53"
      },
      "source": [
        "import torch.optim as optim\n",
        "#loss1\n",
        "criterion=nn.CrossEntropyLoss()\n",
        "input = torch.randn(3, 5, requires_grad=True)\n",
        "target = torch.empty(3, dtype=torch.long).random_(5)\n",
        "\n",
        "cross_entropy_loss = nn.CrossEntropyLoss()\n",
        "output = cross_entropy_loss(input, target)\n",
        "output.backward()\n",
        "\n",
        "print('input: ', input)\n",
        "print('target: ', target)\n",
        "print('output: ', output)\n",
        "#optimser1\n",
        "optimizer=optim.SGD(model.parameters(),lr=0.001)\n",
        "print(optimizer)"
      ],
      "id": "ARrAzsCc2Rj3",
      "execution_count": 11,
      "outputs": [
        {
          "output_type": "stream",
          "text": [
            "input:  tensor([[ 0.4584,  0.6703,  0.4065, -1.6399, -1.1534],\n",
            "        [-0.5300,  0.3186, -0.5214, -1.8387, -0.8486],\n",
            "        [ 0.4486, -1.2958,  0.2944,  0.9628,  0.3685]], requires_grad=True)\n",
            "target:  tensor([1, 3, 4])\n",
            "output:  tensor(1.8798, grad_fn=<NllLossBackward>)\n",
            "SGD (\n",
            "Parameter Group 0\n",
            "    dampening: 0\n",
            "    lr: 0.001\n",
            "    momentum: 0\n",
            "    nesterov: False\n",
            "    weight_decay: 0\n",
            ")\n"
          ],
          "name": "stdout"
        }
      ]
    },
    {
      "cell_type": "code",
      "metadata": {
        "colab": {
          "base_uri": "https://localhost:8080/"
        },
        "id": "bd9ftTBa2Rj5",
        "outputId": "e0312acd-0b6f-4451-c273-5e9c78adeefa"
      },
      "source": [
        "# Task 2: Try 2 different loss functions and report results\n",
        "#second_loss\n",
        "loss = nn.L1Loss()\n",
        "input = torch.randn(1, 2, requires_grad=True)\n",
        "target = torch.randn(1, 2)\n",
        "\n",
        "mae_loss = nn.L1Loss()\n",
        "output = mae_loss(input, target)\n",
        "output.backward()\n",
        "\n",
        "print('input: ', input)\n",
        "print('target: ', target)\n",
        "print('output: ', output)\n",
        "# Task 3: Try 2 different optimizers and report results\n",
        "#second optimiser\n",
        "ada = optim.Adam(model.parameters(), lr=0.001, betas=(0.9, 0.999), \n",
        "                 eps=1e-08, weight_decay=0, amsgrad=False)\n",
        "print(ada)\n",
        "\n"
      ],
      "id": "bd9ftTBa2Rj5",
      "execution_count": 12,
      "outputs": [
        {
          "output_type": "stream",
          "text": [
            "input:  tensor([[-0.2022,  0.0832]], requires_grad=True)\n",
            "target:  tensor([[ 0.2994, -0.1907]])\n",
            "output:  tensor(0.3877, grad_fn=<L1LossBackward>)\n",
            "Adam (\n",
            "Parameter Group 0\n",
            "    amsgrad: False\n",
            "    betas: (0.9, 0.999)\n",
            "    eps: 1e-08\n",
            "    lr: 0.001\n",
            "    weight_decay: 0\n",
            ")\n"
          ],
          "name": "stdout"
        }
      ]
    },
    {
      "cell_type": "markdown",
      "metadata": {
        "id": "f9Anykke2Rj7"
      },
      "source": [
        "# Train the model\n",
        "\n",
        "This is when things start to get interesting. We simply have to loop over our data iterator, and feed the inputs to the network and optimize."
      ],
      "id": "f9Anykke2Rj7"
    },
    {
      "cell_type": "code",
      "metadata": {
        "colab": {
          "base_uri": "https://localhost:8080/"
        },
        "id": "J-wafybt2Rj8",
        "outputId": "45e15273-7dae-4bf2-f54f-85886c99a5f7"
      },
      "source": [
        "epochs = 3\n",
        "\n",
        "for epoch in range(epochs):  # loop over the dataset multiple times\n",
        "\n",
        "    running_loss = 0.0\n",
        "    for i, data in enumerate(trainloader, 0):\n",
        "        \n",
        "        # get the inputs; data is a list of [inputs, labels]\n",
        "        inputs, labels = data\n",
        "\n",
        "        # zero the parameter gradients\n",
        "        optimizer.zero_grad()\n",
        "\n",
        "        # forward + backward + optimize\n",
        "        outputs = model(inputs)\n",
        "        loss = criterion(outputs, labels)\n",
        "        loss.backward()\n",
        "        optimizer.step()\n",
        "\n",
        "        # print statistics\n",
        "        running_loss += loss.item()\n",
        "        if i % 2000 == 1999:    # print every 2000 mini-batches\n",
        "            print('[%d, %5d] loss: %.3f' %\n",
        "                  (epoch + 1, i + 1, running_loss / 2000))\n",
        "            running_loss = 0.0\n",
        "\n",
        "print('Finished Training')"
      ],
      "id": "J-wafybt2Rj8",
      "execution_count": 13,
      "outputs": [
        {
          "output_type": "stream",
          "text": [
            "/usr/local/lib/python3.7/dist-packages/torch/nn/functional.py:718: UserWarning: Named tensors and all their associated APIs are an experimental feature and subject to change. Please do not use them for anything important until they are released as stable. (Triggered internally at  /pytorch/c10/core/TensorImpl.h:1156.)\n",
            "  return torch.max_pool2d(input, kernel_size, stride, padding, dilation, ceil_mode)\n"
          ],
          "name": "stderr"
        },
        {
          "output_type": "stream",
          "text": [
            "[1,  2000] loss: 2.303\n",
            "[1,  4000] loss: 2.301\n",
            "[1,  6000] loss: 2.298\n",
            "[2,  2000] loss: 2.292\n",
            "[2,  4000] loss: 2.275\n",
            "[2,  6000] loss: 2.197\n",
            "[3,  2000] loss: 2.028\n",
            "[3,  4000] loss: 1.959\n",
            "[3,  6000] loss: 1.916\n",
            "Finished Training\n"
          ],
          "name": "stdout"
        }
      ]
    },
    {
      "cell_type": "code",
      "metadata": {
        "colab": {
          "base_uri": "https://localhost:8080/"
        },
        "id": "fbj4QVYo2Rj-",
        "outputId": "b2bf33f7-e1ab-47d2-e777-92fd3c60a72f"
      },
      "source": [
        "# Task 4: Try different hyperparameters and improve the accuracy\n",
        "\n",
        "epochs = 14\n",
        "lr=0.002 #trying diff hyperparameter to improve accuracy.\n",
        "\n",
        "for epoch in range(epochs):  # loop over the dataset multiple times\n",
        "\n",
        "    running_loss = 0.0\n",
        "    for i, data in enumerate(trainloader, 0):\n",
        "        \n",
        "        # get the inputs; data is a list of [inputs, labels]\n",
        "        inputs, labels = data\n",
        "\n",
        "        # zero the parameter gradients\n",
        "        optimizer.zero_grad()\n",
        "\n",
        "        # forward + backward + optimize\n",
        "        outputs = model(inputs)\n",
        "        loss = criterion(outputs, labels)\n",
        "        loss.backward()\n",
        "        optimizer.step()\n",
        "\n",
        "        # print statistics\n",
        "        running_loss += loss.item()\n",
        "        if i % 2000 == 1999:    # print every 2000 mini-batches\n",
        "            print('[%d, %5d] loss: %.3f' %\n",
        "                  (epoch + 1, i + 1, running_loss / 2000))\n",
        "            running_loss = 0.0\n",
        "\n",
        "print('Finished Training')"
      ],
      "id": "fbj4QVYo2Rj-",
      "execution_count": 21,
      "outputs": [
        {
          "output_type": "stream",
          "text": [
            "[1,  2000] loss: 1.335\n",
            "[1,  4000] loss: 1.340\n",
            "[1,  6000] loss: 1.316\n",
            "[2,  2000] loss: 1.320\n",
            "[2,  4000] loss: 1.292\n",
            "[2,  6000] loss: 1.279\n",
            "[3,  2000] loss: 1.275\n",
            "[3,  4000] loss: 1.261\n",
            "[3,  6000] loss: 1.257\n",
            "[4,  2000] loss: 1.239\n",
            "[4,  4000] loss: 1.236\n",
            "[4,  6000] loss: 1.230\n",
            "[5,  2000] loss: 1.200\n",
            "[5,  4000] loss: 1.216\n",
            "[5,  6000] loss: 1.200\n",
            "[6,  2000] loss: 1.172\n",
            "[6,  4000] loss: 1.191\n",
            "[6,  6000] loss: 1.178\n",
            "[7,  2000] loss: 1.166\n",
            "[7,  4000] loss: 1.161\n",
            "[7,  6000] loss: 1.149\n",
            "[8,  2000] loss: 1.138\n",
            "[8,  4000] loss: 1.144\n",
            "[8,  6000] loss: 1.126\n",
            "[9,  2000] loss: 1.110\n",
            "[9,  4000] loss: 1.118\n",
            "[9,  6000] loss: 1.122\n",
            "[10,  2000] loss: 1.092\n",
            "[10,  4000] loss: 1.095\n",
            "[10,  6000] loss: 1.100\n",
            "[11,  2000] loss: 1.077\n",
            "[11,  4000] loss: 1.075\n",
            "[11,  6000] loss: 1.090\n",
            "[12,  2000] loss: 1.069\n",
            "[12,  4000] loss: 1.057\n",
            "[12,  6000] loss: 1.061\n",
            "[13,  2000] loss: 1.031\n",
            "[13,  4000] loss: 1.040\n",
            "[13,  6000] loss: 1.061\n",
            "[14,  2000] loss: 1.039\n",
            "[14,  4000] loss: 1.029\n",
            "[14,  6000] loss: 1.021\n",
            "Finished Training\n"
          ],
          "name": "stdout"
        }
      ]
    },
    {
      "cell_type": "code",
      "metadata": {
        "id": "VvUXZEJR2RkA"
      },
      "source": [
        "# save the model\n",
        "PATH = './cifar_net.pth'\n",
        "torch.save(model.state_dict(), PATH)"
      ],
      "id": "VvUXZEJR2RkA",
      "execution_count": 22,
      "outputs": []
    },
    {
      "cell_type": "markdown",
      "metadata": {
        "id": "S3QDc1x52RkB"
      },
      "source": [
        "## Test the network on the test data\n",
        "\n",
        "We have trained the network for 2 passes over the training dataset. But we need to check if the network has learnt anything at all.\n",
        "\n",
        "We will check this by predicting the class label that the neural network outputs, and checking it against the ground-truth. If the prediction is correct, we add the sample to the list of correct predictions.\n",
        "\n",
        "Okay, first step. Let us display an image from the test set to get familiar."
      ],
      "id": "S3QDc1x52RkB"
    },
    {
      "cell_type": "code",
      "metadata": {
        "colab": {
          "base_uri": "https://localhost:8080/",
          "height": 112
        },
        "id": "YVr7hDRp2RkC",
        "outputId": "9378c78b-1d0d-4249-ef9e-128f93192ebc"
      },
      "source": [
        "# Loading the test data \n",
        "dataiter = iter(testloader)\n",
        "images, labels = dataiter.next()\n",
        "\n",
        "# print images\n",
        "imshow(torchvision.utils.make_grid(images))\n",
        "print('GroundTruth: ', ' '.join('%5s' % classes[labels[j]] for j in range(8)))"
      ],
      "id": "YVr7hDRp2RkC",
      "execution_count": 23,
      "outputs": [
        {
          "output_type": "display_data",
          "data": {
            "image/png": "[encoded data removed]",
            "text/plain": [
              "<Figure size 432x288 with 1 Axes>"
            ]
          },
          "metadata": {
            "tags": [],
            "needs_background": "light"
          }
        },
        {
          "output_type": "stream",
          "text": [
            "GroundTruth:    cat  ship  ship plane  frog  frog   car  frog\n"
          ],
          "name": "stdout"
        }
      ]
    },
    {
      "cell_type": "code",
      "metadata": {
        "colab": {
          "base_uri": "https://localhost:8080/"
        },
        "id": "FK2jwmVF2RkE",
        "outputId": "f6469051-8804-471e-a198-5393a0b66ee7"
      },
      "source": [
        "correct = 0\n",
        "total = 0\n",
        "\n",
        "# since we're not training, we don't need to calculate the gradients for our outputs\n",
        "with torch.no_grad():\n",
        "    for data in testloader:\n",
        "        \n",
        "        images, labels = data\n",
        "        # calculate outputs by running images through the network\n",
        "        outputs = model(images)\n",
        "        \n",
        "        # the class with the highest energy is what we choose as prediction\n",
        "        _, predicted = torch.max(outputs.data, 1)\n",
        "        total += labels.size(0)\n",
        "        correct += (predicted == labels).sum().item()\n",
        "\n",
        "print('Accuracy of the network on the 10000 test images: %d %%' % (\n",
        "    100 * correct / total))"
      ],
      "id": "FK2jwmVF2RkE",
      "execution_count": 24,
      "outputs": [
        {
          "output_type": "stream",
          "text": [
            "Accuracy of the network on the 10000 test images: 60 %\n"
          ],
          "name": "stdout"
        }
      ]
    },
    {
      "cell_type": "markdown",
      "metadata": {
        "id": "8M_gUVgc2RkF"
      },
      "source": [
        "That looks way better than chance, which is 10% accuracy (randomly picking a class out of 10 classes). Seems like the network learnt something.\n",
        "\n",
        "Hmmm, what are the classes that performed well, and the classes that did not perform well:"
      ],
      "id": "8M_gUVgc2RkF"
    },
    {
      "cell_type": "code",
      "metadata": {
        "colab": {
          "base_uri": "https://localhost:8080/"
        },
        "id": "5QikoKSv2RkH",
        "outputId": "3b16d67f-7cbf-406a-d201-18df71439423"
      },
      "source": [
        "# prepare to count predictions for each class\n",
        "correct_pred = {classname: 0 for classname in classes}\n",
        "total_pred = {classname: 0 for classname in classes}\n",
        "\n",
        "# again no gradients needed\n",
        "with torch.no_grad():\n",
        "    for data in testloader:\n",
        "        images, labels = data\n",
        "        outputs = model(images)\n",
        "        _, predictions = torch.max(outputs, 1)\n",
        "        # collect the correct predictions for each class\n",
        "        for label, prediction in zip(labels, predictions):\n",
        "            if label == prediction:\n",
        "                correct_pred[classes[label]] += 1\n",
        "            total_pred[classes[label]] += 1\n",
        "\n",
        "\n",
        "# print accuracy for each class\n",
        "for classname, correct_count in correct_pred.items():\n",
        "    accuracy = 100 * float(correct_count) / total_pred[classname]\n",
        "    print(\"Accuracy for class {:5s} is: {:.1f} %\".format(classname,\n",
        "                                                   accuracy))"
      ],
      "id": "5QikoKSv2RkH",
      "execution_count": 25,
      "outputs": [
        {
          "output_type": "stream",
          "text": [
            "Accuracy for class plane is: 69.8 %\n",
            "Accuracy for class car   is: 74.1 %\n",
            "Accuracy for class bird  is: 52.0 %\n",
            "Accuracy for class cat   is: 40.3 %\n",
            "Accuracy for class deer  is: 42.8 %\n",
            "Accuracy for class dog   is: 38.7 %\n",
            "Accuracy for class frog  is: 75.9 %\n",
            "Accuracy for class horse is: 66.3 %\n",
            "Accuracy for class ship  is: 76.9 %\n",
            "Accuracy for class truck is: 70.9 %\n"
          ],
          "name": "stdout"
        }
      ]
    },
    {
      "cell_type": "code",
      "metadata": {
        "colab": {
          "base_uri": "https://localhost:8080/",
          "height": 265
        },
        "id": "8mJ1C6t42RkJ",
        "outputId": "21dd16e8-e1d4-4737-cc17-968b553d08b4"
      },
      "source": [
        "# Task 5: Visualize these results in form of histograms\n",
        "import seaborn as sns\n",
        "plt.bar(classes,accuracy)\n",
        "plt.show()"
      ],
      "id": "8mJ1C6t42RkJ",
      "execution_count": 26,
      "outputs": [
        {
          "output_type": "display_data",
          "data": {
            "image/png": "[encoded data removed]",
            "text/plain": [
              "<Figure size 432x288 with 1 Axes>"
            ]
          },
          "metadata": {
            "tags": [],
            "needs_background": "light"
          }
        }
      ]
    },
    {
      "cell_type": "code",
      "metadata": {
        "id": "uyeaUDPi2RkK"
      },
      "source": [
        ""
      ],
      "id": "uyeaUDPi2RkK",
      "execution_count": null,
      "outputs": []
    }
  ]
}