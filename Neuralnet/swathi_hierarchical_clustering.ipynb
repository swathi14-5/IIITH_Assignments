{
  "nbformat": 4,
  "nbformat_minor": 5,
  "metadata": {
    "kernelspec": {
      "display_name": "Python 3",
      "language": "python",
      "name": "python3"
    },
    "language_info": {
      "codemirror_mode": {
        "name": "ipython",
        "version": 3
      },
      "file_extension": ".py",
      "mimetype": "text/x-python",
      "name": "python",
      "nbconvert_exporter": "python",
      "pygments_lexer": "ipython3",
      "version": "3.8.5"
    },
    "colab": {
      "name": "hierarchical_clustering.ipynb",
      "provenance": [],
      "collapsed_sections": []
    }
  },
  "cells": [
    {
      "cell_type": "markdown",
      "metadata": {
        "id": "eCXicSK_AIg3"
      },
      "source": [
        "#### Importing the required packages"
      ],
      "id": "eCXicSK_AIg3"
    },
    {
      "cell_type": "code",
      "metadata": {
        "id": "VgosEsbvAIg6"
      },
      "source": [
        "import numpy as np\n",
        "from matplotlib import pyplot as plt\n",
        "from scipy.cluster.hierarchy import dendrogram\n",
        "from sklearn.cluster import AgglomerativeClustering\n",
        "from pandas import read_csv"
      ],
      "id": "VgosEsbvAIg6",
      "execution_count": 1,
      "outputs": []
    },
    {
      "cell_type": "code",
      "metadata": {
        "id": "jt9VhLbNAIg6"
      },
      "source": [
        "from sklearn.preprocessing import LabelEncoder\n",
        "from sklearn.preprocessing import OneHotEncoder\n",
        "from sklearn.compose import ColumnTransformer\n",
        "from collections import Counter\n",
        "from sklearn.decomposition import PCA\n",
        "import scipy.cluster.hierarchy as sch"
      ],
      "id": "jt9VhLbNAIg6",
      "execution_count": 2,
      "outputs": []
    },
    {
      "cell_type": "markdown",
      "metadata": {
        "id": "iGsmMcbnAIg7"
      },
      "source": [
        "#### Import the dataset"
      ],
      "id": "iGsmMcbnAIg7"
    },
    {
      "cell_type": "code",
      "metadata": {
        "colab": {
          "base_uri": "https://localhost:8080/",
          "height": 204
        },
        "id": "JT3HDSNUAIg7",
        "outputId": "be5d80fa-b6c0-4dde-f6a0-aa7fbeedb062"
      },
      "source": [
        "df=read_csv(\"http://archive.ics.uci.edu/ml/machine-learning-databases/statlog/german/german.data\",\\\n",
        "               sep=\" \",header=None)\n",
        "#Display first few rows in the data frame\n",
        "df.head()"
      ],
      "id": "JT3HDSNUAIg7",
      "execution_count": 3,
      "outputs": [
        {
          "output_type": "execute_result",
          "data": {
            "text/html": [
              "<div>\n",
              "<style scoped>\n",
              "    .dataframe tbody tr th:only-of-type {\n",
              "        vertical-align: middle;\n",
              "    }\n",
              "\n",
              "    .dataframe tbody tr th {\n",
              "        vertical-align: top;\n",
              "    }\n",
              "\n",
              "    .dataframe thead th {\n",
              "        text-align: right;\n",
              "    }\n",
              "</style>\n",
              "<table border=\"1\" class=\"dataframe\">\n",
              "  <thead>\n",
              "    <tr style=\"text-align: right;\">\n",
              "      <th></th>\n",
              "      <th>0</th>\n",
              "      <th>1</th>\n",
              "      <th>2</th>\n",
              "      <th>3</th>\n",
              "      <th>4</th>\n",
              "      <th>5</th>\n",
              "      <th>6</th>\n",
              "      <th>7</th>\n",
              "      <th>8</th>\n",
              "      <th>9</th>\n",
              "      <th>10</th>\n",
              "      <th>11</th>\n",
              "      <th>12</th>\n",
              "      <th>13</th>\n",
              "      <th>14</th>\n",
              "      <th>15</th>\n",
              "      <th>16</th>\n",
              "      <th>17</th>\n",
              "      <th>18</th>\n",
              "      <th>19</th>\n",
              "      <th>20</th>\n",
              "    </tr>\n",
              "  </thead>\n",
              "  <tbody>\n",
              "    <tr>\n",
              "      <th>0</th>\n",
              "      <td>A11</td>\n",
              "      <td>6</td>\n",
              "      <td>A34</td>\n",
              "      <td>A43</td>\n",
              "      <td>1169</td>\n",
              "      <td>A65</td>\n",
              "      <td>A75</td>\n",
              "      <td>4</td>\n",
              "      <td>A93</td>\n",
              "      <td>A101</td>\n",
              "      <td>4</td>\n",
              "      <td>A121</td>\n",
              "      <td>67</td>\n",
              "      <td>A143</td>\n",
              "      <td>A152</td>\n",
              "      <td>2</td>\n",
              "      <td>A173</td>\n",
              "      <td>1</td>\n",
              "      <td>A192</td>\n",
              "      <td>A201</td>\n",
              "      <td>1</td>\n",
              "    </tr>\n",
              "    <tr>\n",
              "      <th>1</th>\n",
              "      <td>A12</td>\n",
              "      <td>48</td>\n",
              "      <td>A32</td>\n",
              "      <td>A43</td>\n",
              "      <td>5951</td>\n",
              "      <td>A61</td>\n",
              "      <td>A73</td>\n",
              "      <td>2</td>\n",
              "      <td>A92</td>\n",
              "      <td>A101</td>\n",
              "      <td>2</td>\n",
              "      <td>A121</td>\n",
              "      <td>22</td>\n",
              "      <td>A143</td>\n",
              "      <td>A152</td>\n",
              "      <td>1</td>\n",
              "      <td>A173</td>\n",
              "      <td>1</td>\n",
              "      <td>A191</td>\n",
              "      <td>A201</td>\n",
              "      <td>2</td>\n",
              "    </tr>\n",
              "    <tr>\n",
              "      <th>2</th>\n",
              "      <td>A14</td>\n",
              "      <td>12</td>\n",
              "      <td>A34</td>\n",
              "      <td>A46</td>\n",
              "      <td>2096</td>\n",
              "      <td>A61</td>\n",
              "      <td>A74</td>\n",
              "      <td>2</td>\n",
              "      <td>A93</td>\n",
              "      <td>A101</td>\n",
              "      <td>3</td>\n",
              "      <td>A121</td>\n",
              "      <td>49</td>\n",
              "      <td>A143</td>\n",
              "      <td>A152</td>\n",
              "      <td>1</td>\n",
              "      <td>A172</td>\n",
              "      <td>2</td>\n",
              "      <td>A191</td>\n",
              "      <td>A201</td>\n",
              "      <td>1</td>\n",
              "    </tr>\n",
              "    <tr>\n",
              "      <th>3</th>\n",
              "      <td>A11</td>\n",
              "      <td>42</td>\n",
              "      <td>A32</td>\n",
              "      <td>A42</td>\n",
              "      <td>7882</td>\n",
              "      <td>A61</td>\n",
              "      <td>A74</td>\n",
              "      <td>2</td>\n",
              "      <td>A93</td>\n",
              "      <td>A103</td>\n",
              "      <td>4</td>\n",
              "      <td>A122</td>\n",
              "      <td>45</td>\n",
              "      <td>A143</td>\n",
              "      <td>A153</td>\n",
              "      <td>1</td>\n",
              "      <td>A173</td>\n",
              "      <td>2</td>\n",
              "      <td>A191</td>\n",
              "      <td>A201</td>\n",
              "      <td>1</td>\n",
              "    </tr>\n",
              "    <tr>\n",
              "      <th>4</th>\n",
              "      <td>A11</td>\n",
              "      <td>24</td>\n",
              "      <td>A33</td>\n",
              "      <td>A40</td>\n",
              "      <td>4870</td>\n",
              "      <td>A61</td>\n",
              "      <td>A73</td>\n",
              "      <td>3</td>\n",
              "      <td>A93</td>\n",
              "      <td>A101</td>\n",
              "      <td>4</td>\n",
              "      <td>A124</td>\n",
              "      <td>53</td>\n",
              "      <td>A143</td>\n",
              "      <td>A153</td>\n",
              "      <td>2</td>\n",
              "      <td>A173</td>\n",
              "      <td>2</td>\n",
              "      <td>A191</td>\n",
              "      <td>A201</td>\n",
              "      <td>2</td>\n",
              "    </tr>\n",
              "  </tbody>\n",
              "</table>\n",
              "</div>"
            ],
            "text/plain": [
              "    0   1    2    3     4    5    6   ...    14 15    16  17    18    19 20\n",
              "0  A11   6  A34  A43  1169  A65  A75  ...  A152  2  A173   1  A192  A201  1\n",
              "1  A12  48  A32  A43  5951  A61  A73  ...  A152  1  A173   1  A191  A201  2\n",
              "2  A14  12  A34  A46  2096  A61  A74  ...  A152  1  A172   2  A191  A201  1\n",
              "3  A11  42  A32  A42  7882  A61  A74  ...  A153  1  A173   2  A191  A201  1\n",
              "4  A11  24  A33  A40  4870  A61  A73  ...  A153  2  A173   2  A191  A201  2\n",
              "\n",
              "[5 rows x 21 columns]"
            ]
          },
          "metadata": {
            "tags": []
          },
          "execution_count": 3
        }
      ]
    },
    {
      "cell_type": "code",
      "metadata": {
        "id": "BeEuIiLUAIg8"
      },
      "source": [
        "last_ix = len(df.columns) - 1\n",
        "X, y = df.drop(last_ix, axis=1), df[last_ix]\n",
        "# Categorical features has to be converted into integer values for the model to process. \n",
        "# This is done through one hot encoding.\n",
        "# select categorical features\n",
        "cat_ix = X.select_dtypes(include=['object', 'bool']).columns"
      ],
      "id": "BeEuIiLUAIg8",
      "execution_count": 4,
      "outputs": []
    },
    {
      "cell_type": "code",
      "metadata": {
        "colab": {
          "base_uri": "https://localhost:8080/"
        },
        "id": "OllV2sc_AIg8",
        "outputId": "e26f9da3-058e-45ef-a701-76cfb26824ae"
      },
      "source": [
        "# one hot encode categorical features only\n",
        "ct = ColumnTransformer([('o',OneHotEncoder(),cat_ix)], remainder='passthrough')\n",
        "X = ct.fit_transform(X)\n",
        "# label encode the target variable to have the classes 0 and 1\n",
        "y = LabelEncoder().fit_transform(y)\n",
        "print(X.shape, y.shape, Counter(y))"
      ],
      "id": "OllV2sc_AIg8",
      "execution_count": 5,
      "outputs": [
        {
          "output_type": "stream",
          "text": [
            "(1000, 61) (1000,) Counter({0: 700, 1: 300})\n"
          ],
          "name": "stdout"
        }
      ]
    },
    {
      "cell_type": "markdown",
      "metadata": {
        "id": "bZq7CsgEAIg9"
      },
      "source": [
        "#### Visualize the clusters formed "
      ],
      "id": "bZq7CsgEAIg9"
    },
    {
      "cell_type": "code",
      "metadata": {
        "id": "MzpcG1e5AIg9"
      },
      "source": [
        "def plot_points(X_red, y_pred):\n",
        "    colors = ['r', 'b', 'y', 'c', 'm']\n",
        "    for i in np.unique(y_pred):\n",
        "            points = np.array([X_red[j] for j in range(len(X_red)) if y_pred[j] == i])\n",
        "            plt.scatter(points[:,0], points[:,1], s=7, c=colors[i])"
      ],
      "id": "MzpcG1e5AIg9",
      "execution_count": 6,
      "outputs": []
    },
    {
      "cell_type": "markdown",
      "metadata": {
        "id": "HvaNWCvPAIg-"
      },
      "source": [
        "### Agglomerative clustering"
      ],
      "id": "HvaNWCvPAIg-"
    },
    {
      "cell_type": "markdown",
      "metadata": {
        "id": "CFxBFk6YAIg-"
      },
      "source": [
        "Hierarchical clustering generally fall into two types:\n",
        "\n",
        "**Agglomerative**: This is a \"bottom up\" approach: each observation starts in its own cluster, and pairs of clusters are merged as one moves up the hierarchy.\n",
        "**Divisive**: This is a \"top down\" approach: all observations start in one cluster, and splits are performed recursively as one moves down the hierarchy.\n",
        "\n",
        "In this experiment we are going to use Agglomerative Clustering.\n",
        "\n",
        "The linkage criteria determines the distance metric used for the merge strategy:\n",
        "\n",
        "Here we use **ward** which minimizes the sum of squared differences within all clusters. It is a variance-minimizing approach and in this sense is similar to the k-means objective function but addressed with an agglomerative hierarchical approach.\n",
        "\n",
        "You can also check with other linkage criteria **complete** and **average**"
      ],
      "id": "CFxBFk6YAIg-"
    },
    {
      "cell_type": "code",
      "metadata": {
        "colab": {
          "base_uri": "https://localhost:8080/",
          "height": 591
        },
        "id": "Rniy4Q7EAIg-",
        "outputId": "498d9d8b-5e81-489b-b627-536a7f6b59eb"
      },
      "source": [
        "# Plotting dendrograms to decid the number of clusters.\n",
        "plt.figure(figsize=(20,10))\n",
        "dendrogram = sch.dendrogram(sch.linkage(X, method='ward'))"
      ],
      "id": "Rniy4Q7EAIg-",
      "execution_count": 7,
      "outputs": [
        {
          "output_type": "display_data",
          "data": {
            "image/png": "[encoded data removed]",
            "text/plain": [
              "<Figure size 1440x720 with 1 Axes>"
            ]
          },
          "metadata": {
            "tags": [],
            "needs_background": "light"
          }
        }
      ]
    },
    {
      "cell_type": "markdown",
      "metadata": {
        "id": "o394jw2GBcU5"
      },
      "source": [
        " By choosing 5 clusters by using dendrogram method . This technique is specific to the agglomerative hierarchical method of clustering. The agglomerative hierarchical method of clustering starts by considering each point as a separate cluster and starts joining points to clusters in a hierarchical fashion based on their distance.By choosing these 5  clusters has formed all the datapoints and the centroids."
      ],
      "id": "o394jw2GBcU5"
    },
    {
      "cell_type": "code",
      "metadata": {
        "colab": {
          "base_uri": "https://localhost:8080/"
        },
        "id": "bYeWIpLgAIg_",
        "outputId": "110d5544-fd5c-4211-812a-31c8182605cd"
      },
      "source": [
        "# Task 1\n",
        "# From the above dendrogram choose the cluster of your choice:\n",
        "# Here we are declaring the clusters which is 5\n",
        "n_clusters=5\n",
        "n_clusters"
      ],
      "id": "bYeWIpLgAIg_",
      "execution_count": 8,
      "outputs": [
        {
          "output_type": "execute_result",
          "data": {
            "text/plain": [
              "5"
            ]
          },
          "metadata": {
            "tags": []
          },
          "execution_count": 8
        }
      ]
    },
    {
      "cell_type": "code",
      "metadata": {
        "colab": {
          "base_uri": "https://localhost:8080/"
        },
        "id": "dWuZMLrIAIg_",
        "outputId": "90cba95b-64ad-4645-9e3d-9c07706c1b67"
      },
      "source": [
        "# Task 2:\n",
        "# Declare the agglomerative clustering method with the above chosen cluster number and pass it to the model.\n",
        "# And train the model on the data(fit).\n",
        "# model = ...\n",
        "from sklearn.cluster import AgglomerativeClustering\n",
        "\n",
        "model = AgglomerativeClustering(n_clusters=5, affinity='euclidean', linkage='ward')\n",
        "model.fit(X)"
      ],
      "id": "dWuZMLrIAIg_",
      "execution_count": 9,
      "outputs": [
        {
          "output_type": "execute_result",
          "data": {
            "text/plain": [
              "AgglomerativeClustering(affinity='euclidean', compute_full_tree='auto',\n",
              "                        connectivity=None, distance_threshold=None,\n",
              "                        linkage='ward', memory=None, n_clusters=5)"
            ]
          },
          "metadata": {
            "tags": []
          },
          "execution_count": 9
        }
      ]
    },
    {
      "cell_type": "code",
      "metadata": {
        "id": "wCKe6JucAIhA"
      },
      "source": [
        "#Reducing the dimension of the data points to 2 for visualization\n",
        "pca = PCA(n_components=2)\n",
        "X_red = pca.fit_transform(X)"
      ],
      "id": "wCKe6JucAIhA",
      "execution_count": 10,
      "outputs": []
    },
    {
      "cell_type": "code",
      "metadata": {
        "id": "AHfycmvMAIhA"
      },
      "source": [
        "#Labels assigned to the clusters formed.\n",
        "y_pred =  model.labels_"
      ],
      "id": "AHfycmvMAIhA",
      "execution_count": 11,
      "outputs": []
    },
    {
      "cell_type": "code",
      "metadata": {
        "colab": {
          "base_uri": "https://localhost:8080/",
          "height": 265
        },
        "id": "x0LobPL7AIhA",
        "outputId": "93f96130-3daf-4851-cef0-143450181ee9"
      },
      "source": [
        "#Dislplay the reduced dimension and the clusters formed on the original data\n",
        "plot_points(X_red, y_pred)"
      ],
      "id": "x0LobPL7AIhA",
      "execution_count": 12,
      "outputs": [
        {
          "output_type": "display_data",
          "data": {
            "image/png": "[encoded data removed]",
            "text/plain": [
              "<Figure size 432x288 with 1 Axes>"
            ]
          },
          "metadata": {
            "tags": [],
            "needs_background": "light"
          }
        }
      ]
    }
  ]
}